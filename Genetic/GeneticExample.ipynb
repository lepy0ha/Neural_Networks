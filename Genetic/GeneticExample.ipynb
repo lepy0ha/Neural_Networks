{
 "cells": [
  {
   "cell_type": "code",
   "execution_count": 1,
   "metadata": {
    "id": "S3vxI34VVkTW"
   },
   "outputs": [],
   "source": [
    "import random"
   ]
  },
  {
   "cell_type": "code",
   "execution_count": 2,
   "metadata": {
    "id": "VGHjFt8eaPx5"
   },
   "outputs": [],
   "source": [
    "population_size = 150\n",
    "chromosome_length = 30\n",
    "generations = 69\n",
    "mutation_rate = 0.1\n",
    "tournament_size = 10"
   ]
  },
  {
   "cell_type": "code",
   "execution_count": 3,
   "metadata": {
    "id": "HnRR2tb1Vmiv"
   },
   "outputs": [],
   "source": [
    "def create_population(population_size, chromosome_length):\n",
    "    population = []\n",
    "    for _ in range(population_size):\n",
    "        individual = [random.randint(0, 1) for _ in range(chromosome_length)]\n",
    "        population.append(individual)\n",
    "    return population\n",
    "\n",
    "\n",
    "def fitness_function(individual):\n",
    "    return chromosome_length-sum(individual)"
   ]
  },
  {
   "cell_type": "code",
   "execution_count": 4,
   "metadata": {
    "id": "W4qUBIv3VmnU"
   },
   "outputs": [],
   "source": [
    "def selection_tournament(population, fitness_values, tournament_size=tournament_size):\n",
    "    selected = []\n",
    "    for _ in range(len(population)):\n",
    "        tournament = random.sample(range(len(population)), tournament_size)\n",
    "        winner = tournament[0]\n",
    "        for competitor in tournament[1:]:\n",
    "            if fitness_values[competitor] > fitness_values[winner]:\n",
    "                winner = competitor\n",
    "        selected.append(population[winner])\n",
    "    return selected\n",
    "\n",
    "\n",
    "def selection_roulette(population, fitness_values):\n",
    "    total_fitness = sum(fitness_values)\n",
    "    selection_probabilities = [fitness / total_fitness for fitness in fitness_values]\n",
    "    selected = []\n",
    "    for _ in range(len(population)):\n",
    "        r = random.random()\n",
    "        cumulative_prob = 0\n",
    "        for i, prob in enumerate(selection_probabilities):\n",
    "            cumulative_prob += prob\n",
    "            if r <= cumulative_prob:\n",
    "                selected.append(population[i])\n",
    "                break\n",
    "    return selected"
   ]
  },
  {
   "cell_type": "code",
   "execution_count": 5,
   "metadata": {
    "id": "aQUKEANyVmqr"
   },
   "outputs": [],
   "source": [
    "def crossover_single_point(parent1, parent2):\n",
    "    crossover_point = random.randint(1, len(parent1) - 1)\n",
    "    child1 = parent1[:crossover_point] + parent2[crossover_point:]\n",
    "    child2 = parent2[:crossover_point] + parent1[crossover_point:]\n",
    "    return child1, child2\n",
    "\n",
    "\n",
    "def crossover_two_point(parent1, parent2):\n",
    "    crossover_point1 = random.randint(1, len(parent1) - 2)\n",
    "    crossover_point2 = random.randint(crossover_point1 + 1, len(parent1) - 1)\n",
    "    child1 = parent1[:crossover_point1] + parent2[crossover_point1:crossover_point2] + parent1[crossover_point2:]\n",
    "    child2 = parent2[:crossover_point1] + parent1[crossover_point1:crossover_point2] + parent2[crossover_point2:]\n",
    "    return child1, child2"
   ]
  },
  {
   "cell_type": "code",
   "execution_count": 6,
   "metadata": {
    "id": "bgj7BNn6V0kx"
   },
   "outputs": [],
   "source": [
    "def mutate_flip(individual, mutation_rate):\n",
    "    mutated_individual = individual[:]\n",
    "    for i in range(len(mutated_individual)):\n",
    "        if random.random() < mutation_rate:\n",
    "            mutated_individual[i] = 1 - mutated_individual[i]\n",
    "    return mutated_individual\n",
    "\n",
    "\n",
    "def mutate_inversion(individual, mutation_rate):\n",
    "    mutated_individual = individual[:]\n",
    "    if random.random() < mutation_rate:\n",
    "        mutation_point1 = random.randint(0, len(mutated_individual) - 1)\n",
    "        mutation_point2 = random.randint(0, len(mutated_individual) - 1)\n",
    "        start = min(mutation_point1, mutation_point2)\n",
    "        end = max(mutation_point1, mutation_point2)\n",
    "        mutated_individual[start:end+1] = reversed(mutated_individual[start:end+1])\n",
    "    return mutated_individual\n",
    "\n",
    "\n",
    "def mutate_swap(individual, mutation_rate):\n",
    "    mutated_individual = individual[:]\n",
    "    if random.random() < mutation_rate:\n",
    "        mutation_point1 = random.randint(0, len(mutated_individual) - 1)\n",
    "        mutation_point2 = random.randint(0, len(mutated_individual) - 1)\n",
    "        mutated_individual[mutation_point1], mutated_individual[mutation_point2] = \\\n",
    "            mutated_individual[mutation_point2], mutated_individual[mutation_point1]\n",
    "    return mutated_individual"
   ]
  },
  {
   "cell_type": "code",
   "execution_count": 7,
   "metadata": {
    "id": "V-rLI2ri_km3"
   },
   "outputs": [],
   "source": [
    "def genetic_algorithm(population_size, chromosome_length, generations,\n",
    "                      mutation_rate, selection_method, crossover_method,\n",
    "                      mutation_method):\n",
    "    population = create_population(population_size, chromosome_length)\n",
    "    for _ in range(generations):\n",
    "        fitness_values = [fitness_function(individual) for individual in population]\n",
    "\n",
    "        selected = selection_method(population, fitness_values)\n",
    "\n",
    "        offspring = []\n",
    "        for i in range(0, population_size, 2):\n",
    "            parent1 = selected[i]\n",
    "            parent2 = selected[i + 1]\n",
    "\n",
    "            child1, child2 = crossover_method(parent1, parent2)\n",
    "\n",
    "            offspring.append(mutation_method(child1, mutation_rate))\n",
    "            offspring.append(mutation_method(child2, mutation_rate))\n",
    "\n",
    "        population = offspring\n",
    "\n",
    "    best_individual = max(population, key=fitness_function)\n",
    "    return best_individual, fitness_function(best_individual)"
   ]
  },
  {
   "cell_type": "code",
   "execution_count": 8,
   "metadata": {
    "id": "67RzM9KTZ2ZA"
   },
   "outputs": [],
   "source": [
    "selection_method = selection_roulette\n",
    "crossover_method = crossover_two_point\n",
    "mutation_method = mutate_flip\n",
    "\n",
    "best_solution, best_fitness = genetic_algorithm(population_size, chromosome_length,\n",
    "                                                generations, mutation_rate, selection_method,\n",
    "                                                crossover_method, mutation_method)"
   ]
  },
  {
   "cell_type": "code",
   "execution_count": 9,
   "metadata": {
    "colab": {
     "base_uri": "https://localhost:8080/"
    },
    "id": "_tHgoF4Taf8D",
    "outputId": "b20dc747-94d1-4c6c-f1c4-69929d20c5ac"
   },
   "outputs": [
    {
     "name": "stdout",
     "output_type": "stream",
     "text": [
      "Best solution: [0, 0, 0, 1, 0, 0, 0, 0, 0, 0, 0, 0, 0, 1, 0, 0, 1, 1, 1, 0, 0, 0, 0, 0, 0, 0, 1, 1, 0, 0]\n",
      "Best fitness: 23\n"
     ]
    }
   ],
   "source": [
    "print(\"Best solution:\", best_solution)\n",
    "print(\"Best fitness:\", best_fitness)"
   ]
  }
 ],
 "metadata": {
  "colab": {
   "provenance": []
  },
  "kernelspec": {
   "display_name": "Python 3 (ipykernel)",
   "language": "python",
   "name": "python3"
  },
  "language_info": {
   "codemirror_mode": {
    "name": "ipython",
    "version": 3
   },
   "file_extension": ".py",
   "mimetype": "text/x-python",
   "name": "python",
   "nbconvert_exporter": "python",
   "pygments_lexer": "ipython3",
   "version": "3.13.0"
  }
 },
 "nbformat": 4,
 "nbformat_minor": 4
}
