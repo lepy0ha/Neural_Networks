{
  "nbformat": 4,
  "nbformat_minor": 0,
  "metadata": {
    "colab": {
      "provenance": []
    },
    "kernelspec": {
      "name": "python3",
      "display_name": "Python 3"
    },
    "language_info": {
      "name": "python"
    }
  },
  "cells": [
    {
      "cell_type": "code",
      "execution_count": 21,
      "metadata": {
        "id": "2FNPmPOBrawp"
      },
      "outputs": [],
      "source": [
        "%matplotlib inline\n",
        "\n",
        "import numpy as np\n",
        "import matplotlib.pyplot as plt"
      ]
    },
    {
      "cell_type": "code",
      "source": [
        "zero = [1, 1, 1, 1, 1, 1,\n",
        "        1, -1, -1, -1, -1, 1,\n",
        "        1, -1, -1, -1, -1, 1,\n",
        "        1, -1, -1, -1, -1, 1,\n",
        "        1, -1, -1, -1, -1, 1,\n",
        "        1, -1, -1, -1, -1, 1,\n",
        "        1, -1, -1, -1, -1, 1,\n",
        "        1, -1, -1, -1, -1, 1,\n",
        "        1, -1, -1, -1, -1, 1,\n",
        "        1, 1, 1, 1, 1, 1]\n",
        "\n",
        "one = [-1, -1, -1, -1, -1, 1,\n",
        "       -1, -1, -1, -1, 1, 1,\n",
        "       -1, -1, -1, 1, -1, 1,\n",
        "       -1, -1, -1, -1, -1, 1,\n",
        "       -1, -1, -1, -1, -1, 1,\n",
        "       -1, -1, -1, -1, -1, 1,\n",
        "       -1, -1, -1, -1, -1, 1,\n",
        "       -1, -1, -1, -1, -1, 1,\n",
        "       -1, -1, -1, -1, -1, 1,\n",
        "       -1, -1, -1, -1, -1, 1]\n",
        "\n",
        "two = [1, 1, 1, 1, 1, 1,\n",
        "      -1, -1, -1, -1, -1, 1,\n",
        "      -1, -1, -1, -1, -1, 1,\n",
        "      -1, -1, -1, -1, -1, 1,\n",
        "       1, 1, 1, 1, 1, 1,\n",
        "       1, -1, -1, -1, -1, -1,\n",
        "       1, -1, -1, -1, -1, -1,\n",
        "       1, -1, -1, -1, -1, -1,\n",
        "       1, -1, -1, -1, -1, -1,\n",
        "       1, 1, 1, 1, 1, 1]\n",
        "\n",
        "three = [1, 1, 1, 1, 1, 1,\n",
        "        -1, -1, -1, -1, -1, 1,\n",
        "        -1, -1, -1, -1, -1, 1,\n",
        "        -1, -1, -1, -1, -1, 1,\n",
        "         1, 1, 1, 1, 1, 1,\n",
        "        -1, -1, -1, -1, -1, 1,\n",
        "        -1, -1, -1, -1, -1, 1,\n",
        "        -1, -1, -1, -1, -1, 1,\n",
        "        -1, -1, -1, -1, -1, 1,\n",
        "         1, 1, 1, 1, 1, 1]\n",
        "\n",
        "four = [1, -1, -1, -1, -1, 1,\n",
        "        1, -1, -1, -1, -1, 1,\n",
        "        1, -1, -1, -1, -1, 1,\n",
        "        1, -1, -1, -1, -1, 1,\n",
        "        1, 1, 1, 1, 1, 1,\n",
        "       -1, -1, -1, -1, -1, 1,\n",
        "       -1, -1, -1, -1, -1, 1,\n",
        "       -1, -1, -1, -1, -1, 1,\n",
        "       -1, -1, -1, -1, -1, 1,\n",
        "       -1, -1, -1, -1, -1, 1]\n",
        "\n",
        "five = [1, 1, 1, 1, 1, 1,\n",
        "        1, -1, -1, -1, -1, -1,\n",
        "        1, -1, -1, -1, -1, -1,\n",
        "        1, -1, -1, -1, -1, -1,\n",
        "        1, 1, 1, 1, 1, 1,\n",
        "       -1, -1, -1, -1, -1, 1,\n",
        "       -1, -1, -1, -1, -1, 1,\n",
        "       -1, -1, -1, -1, -1, 1,\n",
        "       -1, -1, -1, -1, -1, 1,\n",
        "        1, 1, 1, 1, 1, 1]\n",
        "\n",
        "six = [1, 1, 1, 1, 1, 1,\n",
        "       1, -1, -1, -1, -1, -1,\n",
        "       1, -1, -1, -1, -1, -1,\n",
        "       1, -1, -1, -1, -1, -1,\n",
        "       1, 1, 1, 1, 1, 1,\n",
        "       1, -1, -1, -1, -1, 1,\n",
        "       1, -1, -1, -1, -1, 1,\n",
        "       1, -1, -1, -1, -1, 1,\n",
        "       1, -1, -1, -1, -1, 1,\n",
        "       1, 1, 1, 1, 1, 1]\n",
        "\n",
        "seven = [1, 1, 1, 1, 1, 1,\n",
        "        -1, -1, -1, -1, -1, 1,\n",
        "        -1, -1, -1, -1, -1, 1,\n",
        "        -1, -1, -1, -1, -1, 1,\n",
        "        -1, -1, -1, -1, 1, -1,\n",
        "        -1, -1, -1, 1, -1, -1,\n",
        "        -1, -1, 1, -1, -1, -1,\n",
        "        -1, -1, 1, -1, -1, -1,\n",
        "        -1, -1, 1, -1, -1, -1,\n",
        "        -1, -1, 1, -1, -1, -1]\n",
        "\n",
        "eight = [1, 1, 1, 1, 1, 1,\n",
        "        1, -1, -1, -1, -1, 1,\n",
        "        1, -1, -1, -1, -1, 1,\n",
        "        1, -1, -1, -1, -1, 1,\n",
        "        1, 1, 1, 1, 1, 1,\n",
        "        1, -1, -1, -1, -1, 1,\n",
        "        1, -1, -1, -1, -1, 1,\n",
        "        1, -1, -1, -1, -1, 1,\n",
        "        1, -1, -1, -1, -1, 1,\n",
        "        1, 1, 1, 1, 1, 1]\n",
        "\n",
        "nine = [1, 1, 1, 1, 1, 1,\n",
        "        1, -1, -1, -1, -1, 1,\n",
        "        1, -1, -1, -1, -1, 1,\n",
        "        1, -1, -1, -1, -1, 1,\n",
        "        1, 1, 1, 1, 1, 1,\n",
        "       -1, -1, -1, -1, -1, 1,\n",
        "       -1, -1, -1, -1, -1, 1,\n",
        "       -1, -1, -1, -1, -1, 1,\n",
        "       -1, -1, -1, -1, -1, 1,\n",
        "        1, 1, 1, 1, 1, 1]\n",
        "\n",
        "numbers = [zero, one, two, three, four, five, six, seven, eight, nine]"
      ],
      "metadata": {
        "id": "kYY_P7MrwwFk"
      },
      "execution_count": 65,
      "outputs": []
    },
    {
      "cell_type": "code",
      "source": [
        "n = 6\n",
        "a = []\n",
        "for digit in numbers:\n",
        "    a.append([digit[i:i+n] for i in range(0, len(digit), n)])\n",
        "\n",
        "fig = plt.figure(figsize=(8, 8))\n",
        "columns = 5\n",
        "rows = 2\n",
        "for i in range(1, columns*rows + 1):\n",
        "    img = np.array(a[i-1])\n",
        "    fig.add_subplot(rows, columns, i)\n",
        "    plt.imshow(img)\n",
        "plt.show()"
      ],
      "metadata": {
        "colab": {
          "base_uri": "https://localhost:8080/",
          "height": 611
        },
        "id": "hy6YSlYgxd_1",
        "outputId": "7d19da96-3971-4828-cf04-047bdfb54d8a"
      },
      "execution_count": 66,
      "outputs": [
        {
          "output_type": "stream",
          "name": "stdout",
          "text": [
            "[[[1, 1, 1, 1, 1, 1], [1, -1, -1, -1, -1, 1], [1, -1, -1, -1, -1, 1], [1, -1, -1, -1, -1, 1], [1, -1, -1, -1, -1, 1], [1, -1, -1, -1, -1, 1], [1, -1, -1, -1, -1, 1], [1, -1, -1, -1, -1, 1], [1, -1, -1, -1, -1, 1], [1, 1, 1, 1, 1, 1]], [[-1, -1, -1, -1, -1, 1], [-1, -1, -1, -1, 1, 1], [-1, -1, -1, 1, -1, 1], [-1, -1, -1, -1, -1, 1], [-1, -1, -1, -1, -1, 1], [-1, -1, -1, -1, -1, 1], [-1, -1, -1, -1, -1, 1], [-1, -1, -1, -1, -1, 1], [-1, -1, -1, -1, -1, 1], [-1, -1, -1, -1, -1, 1]], [[1, 1, 1, 1, 1, 1], [-1, -1, -1, -1, -1, 1], [-1, -1, -1, -1, -1, 1], [-1, -1, -1, -1, -1, 1], [1, 1, 1, 1, 1, 1], [1, -1, -1, -1, -1, -1], [1, -1, -1, -1, -1, -1], [1, -1, -1, -1, -1, -1], [1, -1, -1, -1, -1, -1], [1, 1, 1, 1, 1, 1]], [[1, 1, 1, 1, 1, 1], [-1, -1, -1, -1, -1, 1], [-1, -1, -1, -1, -1, 1], [-1, -1, -1, -1, -1, 1], [1, 1, 1, 1, 1, 1], [-1, -1, -1, -1, -1, 1], [-1, -1, -1, -1, -1, 1], [-1, -1, -1, -1, -1, 1], [-1, -1, -1, -1, -1, 1], [1, 1, 1, 1, 1, 1]], [[1, -1, -1, -1, -1, 1], [1, -1, -1, -1, -1, 1], [1, -1, -1, -1, -1, 1], [1, -1, -1, -1, -1, 1], [1, 1, 1, 1, 1, 1], [-1, -1, -1, -1, -1, 1], [-1, -1, -1, -1, -1, 1], [-1, -1, -1, -1, -1, 1], [-1, -1, -1, -1, -1, 1], [-1, -1, -1, -1, -1, 1]], [[1, 1, 1, 1, 1, 1], [1, -1, -1, -1, -1, -1], [1, -1, -1, -1, -1, -1], [1, -1, -1, -1, -1, -1], [1, 1, 1, 1, 1, 1], [-1, -1, -1, -1, -1, 1], [-1, -1, -1, -1, -1, 1], [-1, -1, -1, -1, -1, 1], [-1, -1, -1, -1, -1, 1], [1, 1, 1, 1, 1, 1]], [[1, 1, 1, 1, 1, 1], [1, -1, -1, -1, -1, -1], [1, -1, -1, -1, -1, -1], [1, -1, -1, -1, -1, -1], [1, 1, 1, 1, 1, 1], [1, -1, -1, -1, -1, 1], [1, -1, -1, -1, -1, 1], [1, -1, -1, -1, -1, 1], [1, -1, -1, -1, -1, 1], [1, 1, 1, 1, 1, 1]], [[1, 1, 1, 1, 1, 1], [-1, -1, -1, -1, -1, 1], [-1, -1, -1, -1, -1, 1], [-1, -1, -1, -1, -1, 1], [-1, -1, -1, -1, 1, -1], [-1, -1, -1, 1, -1, -1], [-1, -1, 1, -1, -1, -1], [-1, -1, 1, -1, -1, -1], [-1, -1, 1, -1, -1, -1], [-1, -1, 1, -1, -1, -1]], [[1, 1, 1, 1, 1, 1], [1, -1, -1, -1, -1, 1], [1, -1, -1, -1, -1, 1], [1, -1, -1, -1, -1, 1], [1, 1, 1, 1, 1, 1], [1, -1, -1, -1, -1, 1], [1, -1, -1, -1, -1, 1], [1, -1, -1, -1, -1, 1], [1, -1, -1, -1, -1, 1], [1, 1, 1, 1, 1, 1]], [[1, 1, 1, 1, 1, 1], [1, -1, -1, -1, -1, 1], [1, -1, -1, -1, -1, 1], [1, -1, -1, -1, -1, 1], [1, 1, 1, 1, 1, 1], [-1, -1, -1, -1, -1, 1], [-1, -1, -1, -1, -1, 1], [-1, -1, -1, -1, -1, 1], [-1, -1, -1, -1, -1, 1], [1, 1, 1, 1, 1, 1]]]\n"
          ]
        },
        {
          "output_type": "display_data",
          "data": {
            "text/plain": [
              "<Figure size 800x800 with 10 Axes>"
            ],
            "image/png": "[encoded data removed]"
          },
          "metadata": {}
        }
      ]
    },
    {
      "cell_type": "code",
      "source": [
        "class HammingNetwork:\n",
        "    def __init__(self):\n",
        "        self.weights = numbers\n",
        "        self.bias = np.zeros(15)           # Смещение\n",
        "        self.output = np.zeros(10)         # Выходной слой\n",
        "\n",
        "\n",
        "    def activation(self, x):\n",
        "        return 1 if x >= 0 else -1\n",
        "\n",
        "\n",
        "    def hamming_distance(self, pattern1, pattern2):\n",
        "        return np.sum(pattern1 != pattern2)\n",
        "\n",
        "\n",
        "    def train(self, data):\n",
        "        self.output = np.zeros(10)  # Обнуляем выходной слой\n",
        "        for i in range(10):\n",
        "            self.output[i] = self.hamming_distance(data.flatten(), self.weights[i])\n",
        "\n",
        "\n",
        "    def recognize(self, data):\n",
        "        self.train(data)\n",
        "        min_distance = np.min(self.output)\n",
        "        recognized_digits = []\n",
        "        for i in range(10):\n",
        "            if self.output[i] == min_distance:\n",
        "                recognized_digits.append(i)\n",
        "        return recognized_digits"
      ],
      "metadata": {
        "id": "ef9ZD4gYwuZP"
      },
      "execution_count": 67,
      "outputs": []
    },
    {
      "cell_type": "code",
      "source": [
        "net = HammingNetwork()\n",
        "\n",
        "# Пример входных данных (матрица 5x3)\n",
        "input_data = np.array([1, 1, 1, 1, 1, 1,\n",
        "                      1, -1, -1, -1, -1, -1,\n",
        "                      1, -1, -1, -1, -1, -1,\n",
        "                      1, -1, -1, -1, -1, -1,\n",
        "                      1, 1, 1, 1, 1, 1,\n",
        "                      1, -1, -1, -1, -1, 1,\n",
        "                      -1, -1, -1, -1, -1, 1,\n",
        "                      -1, -1, -1, -1, -1, 1,\n",
        "                      1, -1, -1, -1, -1, 1,\n",
        "                      1, 1, 1, 1, 1, 1])\n",
        "\n",
        "# Пример цифры 0\n",
        "print(\"Input represents digits:\", net.recognize(input_data))\n",
        "fig = plt.figure(figsize=(5, 5))\n",
        "img = [input_data[i:i+n] for i in range(0, len(input_data), n)]\n",
        "plt.imshow(img)\n",
        "plt.show()"
      ],
      "metadata": {
        "colab": {
          "base_uri": "https://localhost:8080/",
          "height": 462
        },
        "id": "nPJJGOnXvpQj",
        "outputId": "12330b0f-53e5-47fa-fbda-855a7421d79c"
      },
      "execution_count": 73,
      "outputs": [
        {
          "output_type": "stream",
          "name": "stdout",
          "text": [
            "Input represents digits: [5, 6]\n"
          ]
        },
        {
          "output_type": "display_data",
          "data": {
            "text/plain": [
              "<Figure size 500x500 with 1 Axes>"
            ],
            "image/png": "[encoded data removed]"
          },
          "metadata": {}
        }
      ]
    }
  ]
}