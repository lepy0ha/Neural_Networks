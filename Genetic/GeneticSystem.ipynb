{
 "cells": [
  {
   "cell_type": "code",
   "metadata": {
    "id": "PI5-ipdNbQRy"
   },
   "source": [
    "import random\n",
    "import numpy as np\n",
    "import tensorflow as tf\n",
    "from sklearn.datasets import load_iris\n",
    "from sklearn.model_selection import train_test_split"
   ],
   "outputs": [],
   "execution_count": null
  },
  {
   "cell_type": "code",
   "execution_count": 2,
   "metadata": {
    "id": "ADM6xNatbShO"
   },
   "outputs": [],
   "source": [
    "def create_neural_network(params):\n",
    "    model = tf.keras.Sequential([\n",
    "        tf.keras.layers.Dense(params['hidden_layer_units'], activation='relu',\n",
    "                              input_shape=(params['input_shape'],)),\n",
    "        tf.keras.layers.Dense(params['output_shape'], activation='softmax')\n",
    "    ])\n",
    "    model.compile(optimizer='adam', loss='sparse_categorical_crossentropy',\n",
    "                  metrics=['accuracy'])\n",
    "    return model"
   ]
  },
  {
   "cell_type": "code",
   "execution_count": 3,
   "metadata": {
    "id": "0XHVqoeIbSZz"
   },
   "outputs": [],
   "source": [
    "def generate_initial_population(population_size, parameter_ranges):\n",
    "    population = []\n",
    "    for _ in range(population_size):\n",
    "        params = {\n",
    "            'hidden_layer_units': random.randint(parameter_ranges['hidden_layer_units'][0],\n",
    "                                                 parameter_ranges['hidden_layer_units'][1]),\n",
    "            'input_shape': parameter_ranges['input_shape'],\n",
    "            'output_shape': parameter_ranges['output_shape']\n",
    "        }\n",
    "        population.append(params)\n",
    "    return population\n",
    "\n",
    "\n",
    "def fitness_function(model, X_train, y_train):\n",
    "    _, accuracy = model.evaluate(X_train, y_train, verbose=0)\n",
    "    return accuracy"
   ]
  },
  {
   "cell_type": "code",
   "execution_count": 4,
   "metadata": {
    "id": "bjlwJFC0bSTL"
   },
   "outputs": [],
   "source": [
    "def tournament_selection(population, fitness_values, tournament_size):\n",
    "    selected = []\n",
    "    for _ in range(len(population)):\n",
    "        tournament = random.sample(range(len(population)), tournament_size)\n",
    "        winner = tournament[0]\n",
    "        for competitor in tournament[1:]:\n",
    "            if fitness_values[competitor] > fitness_values[winner]:\n",
    "                winner = competitor\n",
    "        selected.append(population[winner])\n",
    "    return selected\n",
    "\n",
    "\n",
    "def crossover(parent1, parent2):\n",
    "    child = {\n",
    "        'hidden_layer_units': random.choice([parent1['hidden_layer_units'],\n",
    "                                             parent2['hidden_layer_units']]),\n",
    "        'input_shape': parent1['input_shape'],\n",
    "        'output_shape': parent1['output_shape']\n",
    "    }\n",
    "    return child\n",
    "\n",
    "\n",
    "def mutate(params, mutation_rate, parameter_ranges):\n",
    "    mutated_params = params.copy()\n",
    "    for key in mutated_params:\n",
    "        if key == 'hidden_layer_units':\n",
    "            if random.random() < mutation_rate:\n",
    "                min_val, max_val = parameter_ranges[key]\n",
    "                mutated_params[key] = random.randint(min_val, max_val)\n",
    "    return mutated_params"
   ]
  },
  {
   "cell_type": "code",
   "execution_count": 5,
   "metadata": {
    "id": "KRSqQVcmbC6v"
   },
   "outputs": [],
   "source": [
    "def genetic_algorithm(X_train, y_train, population_size, generations,\n",
    "                      mutation_rate, tournament_size, parameter_ranges):\n",
    "    population = generate_initial_population(population_size, parameter_ranges)\n",
    "    for _ in range(generations):\n",
    "        models = [create_neural_network(params) for params in population]\n",
    "\n",
    "        for model in models:\n",
    "            model.fit(X_train, y_train, epochs=20, verbose=0)\n",
    "\n",
    "        fitness_values = [fitness_function(model, X_train, y_train) for model in models]\n",
    "\n",
    "        selected = tournament_selection(population, fitness_values, tournament_size)\n",
    "\n",
    "        offspring = []\n",
    "        for i in range(0, population_size, 2):\n",
    "            parent1 = selected[i]\n",
    "            parent2 = selected[i + 1]\n",
    "            child = crossover(parent1, parent2)\n",
    "            offspring.append(mutate(child, mutation_rate, parameter_ranges))\n",
    "            offspring.append(mutate(child, mutation_rate, parameter_ranges))\n",
    "\n",
    "        population = offspring\n",
    "        print(\"Best Accuracy:\", max(fitness_values))\n",
    "\n",
    "    best_model_params = max(population,\n",
    "                            key=lambda x: fitness_function(create_neural_network(x),\n",
    "                                                           X_train, y_train))\n",
    "    return best_model_params"
   ]
  },
  {
   "cell_type": "code",
   "execution_count": 6,
   "metadata": {
    "colab": {
     "base_uri": "https://localhost:8080/"
    },
    "id": "TlG6RB6AblpI",
    "outputId": "b03b5fee-783c-43a5-8ca3-9d68d32af484"
   },
   "outputs": [
    {
     "name": "stdout",
     "output_type": "stream",
     "text": [
      "(142, 13)\n"
     ]
    }
   ],
   "source": [
    "from sklearn.datasets import load_wine\n",
    "data = load_wine()\n",
    "X = data.data\n",
    "y = data.target\n",
    "\n",
    "X_train, X_test, y_train, y_test = train_test_split(X, y, test_size=0.2,\n",
    "                                                    random_state=42)\n",
    "\n",
    "X_train = np.array(X_train)\n",
    "X_test = np.array(X_test)\n",
    "y_train = np.array(y_train)\n",
    "y_test = np.array(y_test)\n",
    "\n",
    "print(X_train.shape)"
   ]
  },
  {
   "cell_type": "code",
   "metadata": {
    "colab": {
     "base_uri": "https://localhost:8080/"
    },
    "id": "LdalcHWzbg3m",
    "outputId": "969b021d-e8a8-4dd2-dd55-b4e0d695f461"
   },
   "source": [
    "population_size = 40\n",
    "generations = 20\n",
    "mutation_rate = 0.1\n",
    "tournament_size = 5\n",
    "parameter_ranges = {\n",
    "    'hidden_layer_units': [10, 100],\n",
    "    'input_shape': X_train.shape[1],\n",
    "    'output_shape': len(np.unique(y_train))\n",
    "}\n",
    "\n",
    "best_params = genetic_algorithm(X_train, y_train, population_size, generations,\n",
    "                                mutation_rate, tournament_size, parameter_ranges)"
   ],
   "outputs": [],
   "execution_count": null
  },
  {
   "cell_type": "code",
   "execution_count": 22,
   "metadata": {
    "colab": {
     "base_uri": "https://localhost:8080/"
    },
    "id": "MwLDjG6fbiZR",
    "outputId": "55af2d40-5b67-469a-d933-f075a8fca8ed"
   },
   "outputs": [
    {
     "name": "stdout",
     "output_type": "stream",
     "text": [
      "Best Parameters: {'hidden_layer_units': 99, 'input_shape': 13, 'output_shape': 3}\n",
      "Best Accuracy: 0.9154929518699646\n"
     ]
    }
   ],
   "source": [
    "best_model = create_neural_network(best_params)\n",
    "best_model.fit(X_train, y_train, epochs=50, verbose=0)\n",
    "best_fitness = fitness_function(best_model, X_train, y_train)\n",
    "\n",
    "print(\"Best Parameters:\", best_params)\n",
    "print(\"Best Accuracy:\", best_fitness)"
   ]
  },
  {
   "cell_type": "code",
   "execution_count": null,
   "metadata": {},
   "outputs": [],
   "source": []
  }
 ],
 "metadata": {
  "colab": {
   "provenance": []
  },
  "kernelspec": {
   "display_name": "Python 3 (ipykernel)",
   "language": "python",
   "name": "python3"
  },
  "language_info": {
   "codemirror_mode": {
    "name": "ipython",
    "version": 3
   },
   "file_extension": ".py",
   "mimetype": "text/x-python",
   "name": "python",
   "nbconvert_exporter": "python",
   "pygments_lexer": "ipython3",
   "version": "3.13.0"
  }
 },
 "nbformat": 4,
 "nbformat_minor": 4
}
