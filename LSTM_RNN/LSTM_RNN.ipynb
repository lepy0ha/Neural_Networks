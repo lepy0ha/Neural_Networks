{
 "cells": [
  {
   "cell_type": "code",
   "execution_count": 1,
   "metadata": {
    "id": "D06tW0FT8gFq"
   },
   "outputs": [],
   "source": [
    "from collections import Counter\n",
    "\n",
    "import torch\n",
    "import torch.nn as nn\n",
    "import torch.nn.functional as F\n",
    "\n",
    "import numpy as np"
   ]
  },
  {
   "cell_type": "code",
   "execution_count": 2,
   "metadata": {
    "colab": {
     "base_uri": "https://localhost:8080/"
    },
    "id": "d1JbaiEt8gFq",
    "outputId": "32e17821-0dc1-4ea0-a166-630763710169"
   },
   "outputs": [],
   "source": [
    "TRAIN_TEXT_FILE_PATH = './data/dataset.txt'\n",
    "\n",
    "with open(TRAIN_TEXT_FILE_PATH) as text_file:\n",
    "    text_sample = text_file.readlines()\n",
    "\n",
    "text_sample = ' '.join(text_sample)"
   ]
  },
  {
   "cell_type": "code",
   "execution_count": 3,
   "metadata": {},
   "outputs": [
    {
     "name": "stdout",
     "output_type": "stream",
     "text": [
      "[' ', 'о', 'е', 'а', 'и', 'н', 'т', 'с', 'л', 'р', 'в', 'м', 'к', 'д', 'у', ',', 'п', 'я', 'ы', 'г', 'б', 'з', 'ь', 'ч', 'й', '.', 'ж', 'х', 'ш', 'ю', 'ц', 'щ', 'э', 'С', '–', '-', '«', '»', 'ф', 'П', 'Н', 'М', 'Д', '\\n', 'К', 'В', 'О', 'Б', 'Я', 'А', 'Р', 'Г', '1', '9', '(', ')', 'И', 'Т', 'Л', 'Ф', 'Э', ':', ';', 'Ш', '…', '8', 'Е', 'У', 'e', 'n', 'Ч', 'ъ', '4', 'З', 'Х', '?', 'M', 't', 'o', 'r', 'B', '2', '3', '!', 'Й', '7', 'a', 's', 'Ю', 'T', 'h', 'i', 'P', 'u', '0', 'G', 'l', 'g', 'k', 'm', 'I', '5', '6', 'ё', 'C', 'R', '’', 'A', 'c', 'y', 'N', 'w', 'Y', 'Ж', 'O', 'd', 'v', 'b']\n"
     ]
    }
   ],
   "source": [
    "def text_to_seq(text_sample):\n",
    "    char_counts = Counter(text_sample)\n",
    "    char_counts = sorted(char_counts.items(), key = lambda x: x[1], reverse=True)\n",
    "\n",
    "    sorted_chars = [char for char, _ in char_counts]\n",
    "    print(sorted_chars)\n",
    "    char_to_idx = {char: index for index, char in enumerate(sorted_chars)}\n",
    "    idx_to_char = {v: k for k, v in char_to_idx.items()}\n",
    "    sequence = np.array([char_to_idx[char] for char in text_sample])\n",
    "\n",
    "    return sequence, char_to_idx, idx_to_char\n",
    "\n",
    "sequence, char_to_idx, idx_to_char = text_to_seq(text_sample)"
   ]
  },
  {
   "cell_type": "code",
   "execution_count": 4,
   "metadata": {
    "id": "vvzRP5878gFq"
   },
   "outputs": [],
   "source": [
    "SEQ_LEN = 256\n",
    "BATCH_SIZE = 16\n",
    "\n",
    "def get_batch(sequence):\n",
    "    trains = []\n",
    "    targets = []\n",
    "    for _ in range(BATCH_SIZE):\n",
    "        batch_start = np.random.randint(0, len(sequence) - SEQ_LEN)\n",
    "        chunk = sequence[batch_start: batch_start + SEQ_LEN]\n",
    "        train = torch.LongTensor(chunk[:-1]).view(-1, 1)\n",
    "        target = torch.LongTensor(chunk[1:]).view(-1, 1)\n",
    "        trains.append(train)\n",
    "        targets.append(target)\n",
    "    return torch.stack(trains, dim=0), torch.stack(targets, dim=0)"
   ]
  },
  {
   "cell_type": "code",
   "execution_count": 5,
   "metadata": {
    "id": "1zBQ8g1l8gFr"
   },
   "outputs": [],
   "source": [
    "def evaluate(model, char_to_idx, idx_to_char, start_text=' ', prediction_len=200, temp=0.3):\n",
    "    hidden = model.init_hidden()\n",
    "    idx_input = [char_to_idx[char] for char in start_text]\n",
    "    train = torch.LongTensor(idx_input).view(-1, 1, 1).to(device)\n",
    "    predicted_text = start_text\n",
    "\n",
    "    _, hidden = model(train, hidden)\n",
    "\n",
    "    inp = train[-1].view(-1, 1, 1)\n",
    "\n",
    "    for i in range(prediction_len):\n",
    "        output, hidden = model(inp.to(device), hidden)\n",
    "        output_logits = output.cpu().data.view(-1)\n",
    "        p_next = F.softmax(output_logits / temp, dim=-1).detach().cpu().data.numpy()\n",
    "        top_index = np.random.choice(len(char_to_idx), p=p_next)\n",
    "        inp = torch.LongTensor([top_index]).view(-1, 1, 1).to(device)\n",
    "        predicted_char = idx_to_char[top_index]\n",
    "        predicted_text += predicted_char\n",
    "\n",
    "    return predicted_text"
   ]
  },
  {
   "cell_type": "code",
   "execution_count": 6,
   "metadata": {
    "id": "noBYpwBw8gFr"
   },
   "outputs": [],
   "source": [
    "class PozRNN(nn.Module):\n",
    "\n",
    "    def __init__(self, input_size, hidden_size, embedding_size, n_layers=1):\n",
    "        super(PozRNN, self).__init__()\n",
    "\n",
    "        self.input_size = input_size\n",
    "        self.hidden_size = hidden_size\n",
    "        self.embedding_size = embedding_size\n",
    "        self.n_layers = n_layers\n",
    "\n",
    "        self.encoder = nn.Embedding(self.input_size, self.embedding_size)\n",
    "        self.lstm = nn.LSTM(self.embedding_size, self.hidden_size, self.n_layers)\n",
    "        self.dropout = nn.Dropout(0.2)\n",
    "        self.fc = nn.Linear(self.hidden_size, self.input_size)\n",
    "\n",
    "    def forward(self, x, hidden):\n",
    "        x = self.encoder(x).squeeze(2)\n",
    "        out, (ht1, ct1) = self.lstm(x, hidden)\n",
    "        out = self.dropout(out)\n",
    "        x = self.fc(out)\n",
    "        return x, (ht1, ct1)\n",
    "\n",
    "    def init_hidden(self, batch_size=1):\n",
    "        return (torch.zeros(self.n_layers, batch_size, self.hidden_size, requires_grad=True).to(device),\n",
    "               torch.zeros(self.n_layers, batch_size, self.hidden_size, requires_grad=True).to(device))"
   ]
  },
  {
   "cell_type": "code",
   "metadata": {
    "colab": {
     "base_uri": "https://localhost:8080/"
    },
    "id": "DnEVwWWA8gFr",
    "outputId": "205f58b6-7a5b-49ae-cc33-23157fc8c9f3"
   },
   "source": [
    "device = torch.device('cuda') if torch.cuda.is_available() else torch.device('cpu')\n",
    "model = PozRNN(input_size=len(idx_to_char), hidden_size=128, embedding_size=128, n_layers=2)\n",
    "model.to(device)\n",
    "\n",
    "criterion = nn.CrossEntropyLoss()\n",
    "optimizer = torch.optim.Adam(model.parameters(), lr=1e-2, amsgrad=True)\n",
    "scheduler = torch.optim.lr_scheduler.ReduceLROnPlateau(\n",
    "    optimizer,\n",
    "    patience=5,\n",
    "    verbose=True,\n",
    "    factor=0.5\n",
    ")\n",
    "\n",
    "n_epochs = 2000\n",
    "loss_avg = []\n",
    "\n",
    "for epoch in range(n_epochs):\n",
    "    model.train()\n",
    "    train, target = get_batch(sequence)\n",
    "    train = train.permute(1, 0, 2).to(device)\n",
    "    target = target.permute(1, 0, 2).to(device)\n",
    "    hidden = model.init_hidden(BATCH_SIZE)\n",
    "\n",
    "    output, hidden = model(train, hidden)\n",
    "    loss = criterion(output.permute(1, 2, 0), target.squeeze(-1).permute(1, 0))\n",
    "\n",
    "    loss.backward()\n",
    "    optimizer.step()\n",
    "    optimizer.zero_grad()\n",
    "\n",
    "    loss_avg.append(loss.item())\n",
    "    if len(loss_avg) >= 50:\n",
    "        mean_loss = np.mean(loss_avg)\n",
    "        print(f'Loss: {mean_loss}')\n",
    "        scheduler.step(mean_loss)\n",
    "        loss_avg = []\n",
    "        model.eval()\n",
    "        predicted_text = evaluate(model, char_to_idx, idx_to_char)\n",
    "        print(predicted_text)"
   ],
   "outputs": [],
   "execution_count": null
  },
  {
   "cell_type": "code",
   "execution_count": 8,
   "metadata": {
    "colab": {
     "base_uri": "https://localhost:8080/"
    },
    "id": "Ds0wIyMX8gFr",
    "outputId": "603a0603-ee4d-49dd-9651-f3af32a084cc"
   },
   "outputs": [
    {
     "name": "stdout",
     "output_type": "stream",
     "text": [
      " разовить команд – «Нью-йоркские Янки». Поэтому Бобби, и забыл думать в еврейской деятельности, его вышла в 1980 году, когда мы особенно себе, что в стране понятию стороне?»); затем их удивление первых пяти лет спед деле вызывало то не говорить не буду. Понятно, которые первой русский, а я прессиольно в черных следило задача по советские женщины, которые первыми в истории бейсбола стать некогда в 1982 году был выпущен спичечный которой стал пока не менее сообразительных полнейший советских годол, ресилен в естерстве потом самой советского домой каждый и делеком во время игр на легендарном «Янки-стадионе». Господи, что я потом, который должен был открываться пришлось в одиночку добывать мирны на всеобщее особенно себе, что в главным из всех бейсбольных команд – «Нью-йоркские Янки». Поэтому Бобби, я начав ее назила еврейской команд играли три мысли по коломительной команд – «Нью-йоркские Янки». Поэтому Бобби, и забыл думать об этом смысле «Доджерс» ничем течение в головавшей хорошо за три\n"
     ]
    }
   ],
   "source": [
    "model.eval()\n",
    "\n",
    "print(evaluate(\n",
    "    model,\n",
    "    char_to_idx,\n",
    "    idx_to_char,\n",
    "    temp=0.3,\n",
    "    prediction_len=1000,\n",
    "    start_text=' '\n",
    "    )\n",
    ")"
   ]
  },
  {
   "cell_type": "code",
   "execution_count": null,
   "metadata": {},
   "outputs": [],
   "source": []
  }
 ],
 "metadata": {
  "colab": {
   "provenance": []
  },
  "kernelspec": {
   "display_name": "Python 3 (ipykernel)",
   "language": "python",
   "name": "python3"
  },
  "language_info": {
   "codemirror_mode": {
    "name": "ipython",
    "version": 3
   },
   "file_extension": ".py",
   "mimetype": "text/x-python",
   "name": "python",
   "nbconvert_exporter": "python",
   "pygments_lexer": "ipython3",
   "version": "3.9.7"
  }
 },
 "nbformat": 4,
 "nbformat_minor": 1
}
