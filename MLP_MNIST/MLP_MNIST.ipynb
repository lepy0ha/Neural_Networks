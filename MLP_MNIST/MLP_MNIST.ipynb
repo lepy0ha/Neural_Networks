{
 "cells": [
  {
   "cell_type": "code",
   "metadata": {},
   "source": [
    "!pip install --ignore-installed tbb\n",
    "!pip install torch --user\n",
    "!pip install torchvision --user"
   ],
   "outputs": [],
   "execution_count": null
  },
  {
   "cell_type": "code",
   "execution_count": 2,
   "metadata": {
    "colab": {
     "base_uri": "https://localhost:8080/"
    },
    "id": "Eny0U6LQDCMq",
    "outputId": "8af8e0ee-2451-4fec-e399-32bbd1d7b27d"
   },
   "outputs": [
    {
     "name": "stdout",
     "output_type": "stream",
     "text": [
      "Using PyTorch version: 2.3.0+cpu\n",
      "No GPU found, using CPU instead.\n"
     ]
    }
   ],
   "source": [
    "%matplotlib inline\n",
    "\n",
    "import torch\n",
    "import torch.nn as nn\n",
    "from torch.utils.data import DataLoader\n",
    "from torchvision import datasets\n",
    "from torchvision.transforms import ToTensor, InterpolationMode\n",
    "from torchvision.io import read_image, ImageReadMode\n",
    "from torchvision.transforms.functional import resize\n",
    "\n",
    "from pathlib import Path\n",
    "\n",
    "import matplotlib.pyplot as plt\n",
    "\n",
    "print('Using PyTorch version:', torch.__version__)\n",
    "if torch.cuda.is_available():\n",
    "    print('Using GPU, device name:', torch.cuda.get_device_name(0))\n",
    "    device = torch.device('cuda')\n",
    "else:\n",
    "    print('No GPU found, using CPU instead.')\n",
    "    device = torch.device('cpu')"
   ]
  },
  {
   "cell_type": "code",
   "execution_count": 3,
   "metadata": {
    "colab": {
     "base_uri": "https://localhost:8080/"
    },
    "id": "FrONKKoaDCMr",
    "outputId": "0ef51ef0-fc2b-4552-9039-f2b280bd1eec"
   },
   "outputs": [
    {
     "name": "stdout",
     "output_type": "stream",
     "text": [
      "data_dir = ./data\n"
     ]
    }
   ],
   "source": [
    "batch_size = 32\n",
    "NUM_OF_CLASSES = 10\n",
    "\n",
    "data_dir = './data'\n",
    "print('data_dir =', data_dir)\n",
    "\n",
    "train_dataset = datasets.MNIST(data_dir, train=True,\n",
    "                               download=True, transform=ToTensor())\n",
    "test_dataset = datasets.MNIST(data_dir, train=False,\n",
    "                              transform=ToTensor())\n",
    "\n",
    "train_loader = DataLoader(dataset=train_dataset, batch_size=batch_size,\n",
    "                          shuffle=True)\n",
    "test_loader = DataLoader(dataset=test_dataset, batch_size=batch_size,\n",
    "                         shuffle=True)"
   ]
  },
  {
   "cell_type": "code",
   "execution_count": 4,
   "metadata": {
    "colab": {
     "base_uri": "https://localhost:8080/"
    },
    "id": "G0ppr1s9DCMr",
    "outputId": "5e76c8b2-cd30-4835-e53d-daa146da47e4"
   },
   "outputs": [
    {
     "name": "stdout",
     "output_type": "stream",
     "text": [
      "data: torch.Size([32, 1, 28, 28]) type: torch.FloatTensor\n",
      "target: torch.Size([32]) type: torch.LongTensor\n"
     ]
    }
   ],
   "source": [
    "for (data, target) in train_loader:\n",
    "    print('data:', data.size(), 'type:', data.type())\n",
    "    print('target:', target.size(), 'type:', target.type())\n",
    "    break"
   ]
  },
  {
   "cell_type": "code",
   "execution_count": 5,
   "metadata": {
    "colab": {
     "base_uri": "https://localhost:8080/",
     "height": 125
    },
    "id": "oU2edBvvDCMr",
    "outputId": "693dd490-d6fe-48df-8eb2-d34f8289adcb"
   },
   "outputs": [
    {
     "data": {
      "image/png": "[encoded data removed]",
      "text/plain": [
       "<Figure size 720x72 with 10 Axes>"
      ]
     },
     "metadata": {
      "needs_background": "light"
     },
     "output_type": "display_data"
    }
   ],
   "source": [
    "pltsize=1\n",
    "plt.figure(figsize=(10*pltsize, pltsize))\n",
    "\n",
    "for i in range(10):\n",
    "    plt.subplot(1,10,i+1)\n",
    "    plt.axis('off')\n",
    "    plt.imshow(data[i,:,:,:].numpy().reshape(28,28), cmap=\"gray_r\")\n",
    "    plt.title('Class: '+str(target[i].item()))"
   ]
  },
  {
   "cell_type": "code",
   "execution_count": 6,
   "metadata": {
    "colab": {
     "base_uri": "https://localhost:8080/"
    },
    "id": "VjJ3MtEODCMs",
    "outputId": "16aafe7c-c2fe-4845-b6f6-11d6a19cfd6a"
   },
   "outputs": [
    {
     "name": "stdout",
     "output_type": "stream",
     "text": [
      "MLP(\n",
      "  (layers): Sequential(\n",
      "    (0): Flatten(start_dim=1, end_dim=-1)\n",
      "    (1): Linear(in_features=784, out_features=50, bias=True)\n",
      "    (2): ReLU()\n",
      "    (3): Linear(in_features=50, out_features=10, bias=True)\n",
      "  )\n",
      ")\n"
     ]
    }
   ],
   "source": [
    "class MLP(nn.Module):\n",
    "    def __init__(self):\n",
    "        super().__init__()\n",
    "        self.layers = nn.Sequential(\n",
    "            nn.Flatten(),\n",
    "            nn.Linear(28*28, 50),\n",
    "            nn.ReLU(),\n",
    "            nn.Linear(50, NUM_OF_CLASSES)\n",
    "        )\n",
    "\n",
    "    def forward(self, x):\n",
    "        return self.layers(x)\n",
    "\n",
    "model = MLP().to(device)\n",
    "print(model)"
   ]
  },
  {
   "cell_type": "code",
   "execution_count": 7,
   "metadata": {
    "id": "wezhfh7tDCMs"
   },
   "outputs": [],
   "source": [
    "criterion = nn.CrossEntropyLoss()\n",
    "optimizer = torch.optim.Adam(model.parameters())"
   ]
  },
  {
   "cell_type": "code",
   "execution_count": 8,
   "metadata": {
    "id": "qZvGEYYzDCMs"
   },
   "outputs": [],
   "source": [
    "def correct(output, target):\n",
    "    predicted_digits = output.argmax(1)                            # pick digit with largest network output\n",
    "    correct_ones = (predicted_digits == target).type(torch.float)  # 1.0 for correct, 0.0 for incorrect\n",
    "    return correct_ones.sum().item()                               # count number of correct ones\n"
   ]
  },
  {
   "cell_type": "code",
   "execution_count": 9,
   "metadata": {
    "id": "WqFcj49_DCMs"
   },
   "outputs": [],
   "source": [
    "def train(data_loader, model, criterion, optimizer):\n",
    "    model.train()\n",
    "\n",
    "    num_batches = len(data_loader)\n",
    "    num_items = len(data_loader.dataset)\n",
    "\n",
    "    total_loss = 0\n",
    "    total_correct = 0\n",
    "    for data, target in data_loader:\n",
    "        # Copy data and targets to GPU\n",
    "        data = data.to(device)\n",
    "        target = target.to(device)\n",
    "\n",
    "        # Forward pass\n",
    "        output = model(data)\n",
    "\n",
    "        # Calculate the loss\n",
    "        loss = criterion(output, target)\n",
    "        total_loss += loss\n",
    "\n",
    "        # Count number of correct digits\n",
    "        total_correct += correct(output, target)\n",
    "\n",
    "        # Backpropagation\n",
    "        loss.backward()\n",
    "        optimizer.step()\n",
    "        optimizer.zero_grad()\n",
    "\n",
    "    train_loss = total_loss/num_batches\n",
    "    accuracy = total_correct/num_items\n",
    "    print(f\"Average loss: {train_loss:6f}, accuracy: {accuracy:.2%}\")\n"
   ]
  },
  {
   "cell_type": "code",
   "execution_count": 10,
   "metadata": {
    "colab": {
     "base_uri": "https://localhost:8080/"
    },
    "id": "y1F0caSSDCMs",
    "outputId": "7fd673c7-7293-487f-f23f-06a9eafd1f4e"
   },
   "outputs": [
    {
     "name": "stdout",
     "output_type": "stream",
     "text": [
      "Training epoch: 1\n",
      "Average loss: 0.361467, accuracy: 90.06%\n",
      "Training epoch: 2\n",
      "Average loss: 0.182444, accuracy: 94.77%\n",
      "Training epoch: 3\n",
      "Average loss: 0.133188, accuracy: 96.16%\n",
      "Training epoch: 4\n",
      "Average loss: 0.107342, accuracy: 96.86%\n",
      "Training epoch: 5\n",
      "Average loss: 0.089036, accuracy: 97.33%\n",
      "Training epoch: 6\n",
      "Average loss: 0.077352, accuracy: 97.61%\n",
      "Training epoch: 7\n",
      "Average loss: 0.067964, accuracy: 97.97%\n",
      "Training epoch: 8\n",
      "Average loss: 0.059612, accuracy: 98.16%\n",
      "Training epoch: 9\n",
      "Average loss: 0.053596, accuracy: 98.38%\n",
      "Training epoch: 10\n",
      "Average loss: 0.047490, accuracy: 98.58%\n",
      "Training epoch: 11\n",
      "Average loss: 0.043131, accuracy: 98.66%\n",
      "Training epoch: 12\n",
      "Average loss: 0.039104, accuracy: 98.84%\n",
      "Training epoch: 13\n",
      "Average loss: 0.035232, accuracy: 98.92%\n",
      "Training epoch: 14\n",
      "Average loss: 0.032329, accuracy: 99.01%\n",
      "Training epoch: 15\n",
      "Average loss: 0.028681, accuracy: 99.13%\n",
      "Training epoch: 16\n",
      "Average loss: 0.026641, accuracy: 99.19%\n",
      "Training epoch: 17\n",
      "Average loss: 0.024346, accuracy: 99.26%\n",
      "Training epoch: 18\n",
      "Average loss: 0.022252, accuracy: 99.32%\n",
      "Training epoch: 19\n",
      "Average loss: 0.020396, accuracy: 99.39%\n",
      "Training epoch: 20\n",
      "Average loss: 0.019451, accuracy: 99.41%\n",
      "Wall time: 3min 33s\n"
     ]
    }
   ],
   "source": [
    "%%time\n",
    "\n",
    "epochs = 20\n",
    "for epoch in range(epochs):\n",
    "    print(f\"Training epoch: {epoch+1}\")\n",
    "    train(train_loader, model, criterion, optimizer)"
   ]
  },
  {
   "cell_type": "code",
   "execution_count": 11,
   "metadata": {
    "id": "EyE8GLhoDCMt"
   },
   "outputs": [],
   "source": [
    "def test(test_loader, model, criterion):\n",
    "    model.eval()\n",
    "\n",
    "    num_batches = len(test_loader)\n",
    "    num_items = len(test_loader.dataset)\n",
    "\n",
    "    test_loss = 0\n",
    "    total_correct = 0\n",
    "\n",
    "    with torch.no_grad():\n",
    "        for data, target in test_loader:\n",
    "            data = data.to(device)\n",
    "            target = target.to(device)\n",
    "\n",
    "            output = model(data)\n",
    "\n",
    "            loss = criterion(output, target)\n",
    "            test_loss += loss.item()\n",
    "\n",
    "            total_correct += correct(output, target)\n",
    "\n",
    "    test_loss = test_loss/num_batches\n",
    "    accuracy = total_correct/num_items\n",
    "\n",
    "    print(f\"Testset accuracy: {100*accuracy:>0.1f}%, average loss: {test_loss:>6f}\")\n",
    "\n",
    "    pltsize = 1\n",
    "    plt.figure(figsize=(10*pltsize, pltsize))\n",
    "\n",
    "    for i in range(10):\n",
    "        plt.subplot(1, 10, i+1)\n",
    "        plt.axis('off')\n",
    "        plt.imshow(data[i,:,:,:].numpy().reshape(28, 28), cmap=\"gray_r\")\n",
    "        plt.title('Class: '+str(target[i].item()))"
   ]
  },
  {
   "cell_type": "code",
   "execution_count": 12,
   "metadata": {
    "colab": {
     "base_uri": "https://localhost:8080/",
     "height": 142
    },
    "id": "O5IzpvJODCMt",
    "outputId": "b46d4f7a-230b-4263-b896-1382b10a272c"
   },
   "outputs": [
    {
     "name": "stdout",
     "output_type": "stream",
     "text": [
      "Testset accuracy: 97.2%, average loss: 0.111828\n"
     ]
    },
    {
     "data": {
      "image/png": "[encoded data removed]",
      "text/plain": [
       "<Figure size 720x72 with 10 Axes>"
      ]
     },
     "metadata": {
      "needs_background": "light"
     },
     "output_type": "display_data"
    }
   ],
   "source": [
    "test(test_loader, model, criterion)"
   ]
  },
  {
   "cell_type": "code",
   "execution_count": null,
   "metadata": {},
   "outputs": [],
   "source": [
    "from PIL import Image, ImageDraw\n",
    "import PIL\n",
    "from tkinter import *\n",
    "\n",
    "width = 112  # canvas width\n",
    "height = 112 # canvas height\n",
    "bg = (0, 0, 0) # canvas background\n",
    "\n",
    "def save():\n",
    "    # save image to disk\n",
    "    filename = \"./data/user_input.jpg\"\n",
    "    output_image.save(filename)\n",
    "\n",
    "def paint(event):\n",
    "    x1, y1 = (event.x - 1), (event.y - 1)\n",
    "    x2, y2 = (event.x + 1), (event.y + 1)\n",
    "    canvas.create_oval(x1, y1, x2, y2, fill=\"white\", width=10)\n",
    "    draw.line([x1, y1, x2, y2], fill=\"white\", width=10)\n",
    "\n",
    "master = Tk()\n",
    "\n",
    "# create a tkinter canvas\n",
    "canvas = Canvas(master, width=width, height=height, bg='white')\n",
    "canvas.pack()\n",
    "\n",
    "# create empty PIL image and draw object to draw on\n",
    "output_image = PIL.Image.new(\"RGB\", (width, height), bg)\n",
    "draw = ImageDraw.Draw(output_image)\n",
    "canvas.pack(expand=YES, fill=BOTH)\n",
    "canvas.bind(\"<B1-Motion>\", paint)\n",
    "\n",
    "# button to save the image\n",
    "button=Button(text=\"save\", command=save)\n",
    "button.pack()\n",
    "\n",
    "master.mainloop()"
   ]
  },
  {
   "cell_type": "code",
   "execution_count": null,
   "metadata": {},
   "outputs": [],
   "source": [
    "user_image = read_image(str(Path('./data') / 'user_input.jpg'), mode=ImageReadMode.GRAY)\n",
    "user_image = resize(user_image, [28, 28], interpolation=InterpolationMode.BILINEAR).to(torch.float32)\n",
    "\n",
    "plt.imshow(user_image.numpy().reshape(28, 28), cmap=\"gray_r\")"
   ]
  },
  {
   "cell_type": "code",
   "execution_count": null,
   "metadata": {},
   "outputs": [],
   "source": [
    "def predict(data, model):\n",
    "    output = model(data)\n",
    "\n",
    "    out_soft = nn.functional.softmax(output, dim=1)[0]\n",
    "    out_idx = torch.topk(out_soft, 1).indices\n",
    "    out_class = out_idx.squeeze().item()\n",
    "\n",
    "    print(\"Predicted number is\", out_class)"
   ]
  },
  {
   "cell_type": "code",
   "execution_count": null,
   "metadata": {},
   "outputs": [],
   "source": [
    "predict(user_image, model)"
   ]
  },
  {
   "cell_type": "code",
   "execution_count": null,
   "metadata": {},
   "outputs": [],
   "source": []
  }
 ],
 "metadata": {
  "colab": {
   "provenance": []
  },
  "kernelspec": {
   "display_name": "Python 3 (ipykernel)",
   "language": "python",
   "name": "python3"
  },
  "language_info": {
   "codemirror_mode": {
    "name": "ipython",
    "version": 3
   },
   "file_extension": ".py",
   "mimetype": "text/x-python",
   "name": "python",
   "nbconvert_exporter": "python",
   "pygments_lexer": "ipython3",
   "version": "3.9.7"
  }
 },
 "nbformat": 4,
 "nbformat_minor": 1
}
