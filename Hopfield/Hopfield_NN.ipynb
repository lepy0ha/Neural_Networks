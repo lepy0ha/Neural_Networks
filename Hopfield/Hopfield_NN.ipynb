{
 "cells": [
  {
   "cell_type": "code",
   "metadata": {
    "id": "7UC4dKXhQ2C5"
   },
   "source": [
    "import numpy as np\n",
    "import matplotlib.pyplot as plt\n",
    "from matplotlib import cm"
   ],
   "outputs": [],
   "execution_count": null
  },
  {
   "cell_type": "code",
   "execution_count": null,
   "metadata": {
    "id": "fpKwLKZVRKnk"
   },
   "outputs": [],
   "source": [
    "class HopfieldNN():\n",
    "    def train_weights(self, train_data):\n",
    "        num_data = len(train_data)\n",
    "        self.num_neuron = train_data[0].shape[0]\n",
    "\n",
    "        # initialize weights\n",
    "        W = np.zeros((self.num_neuron, self.num_neuron))\n",
    "        rho = np.sum([np.sum(t) for t in train_data]) / (num_data*self.num_neuron)\n",
    "\n",
    "        # Hebb rule\n",
    "        for i in range(num_data):\n",
    "            t = train_data[i] - rho\n",
    "            W += np.outer(t, t)\n",
    "\n",
    "        # Make diagonal element of W into 0\n",
    "        diagW = np.diag(np.diag(W))\n",
    "        W = W - diagW\n",
    "        W /= num_data\n",
    "\n",
    "        self.W = W\n",
    "\n",
    "    def predict(self, data, num_iter=20, threshold=0):\n",
    "        self.num_iter = num_iter\n",
    "        self.threshold = threshold\n",
    "\n",
    "        # Copy to avoid call by reference\n",
    "        copied_data = np.copy(data)\n",
    "\n",
    "        # Define predict list\n",
    "        predicted = []\n",
    "        for i in range(len(data)):\n",
    "            predicted.append(self._run(copied_data[i]))\n",
    "        return predicted\n",
    "\n",
    "    def _run(self, init_s):\n",
    "        # Compute initial state energy\n",
    "        s = init_s\n",
    "\n",
    "        e = self.energy(s)\n",
    "\n",
    "        # Iteration\n",
    "        for i in range(self.num_iter):\n",
    "            # Update s\n",
    "            s = np.sign(self.W @ s - self.threshold)\n",
    "            # Compute new state energy\n",
    "            e_new = self.energy(s)\n",
    "\n",
    "            # s is converged\n",
    "            if e == e_new:\n",
    "                return s\n",
    "            # Update energy\n",
    "            e = e_new\n",
    "        return s\n",
    "\n",
    "\n",
    "    def energy(self, s):\n",
    "        return -0.5 * s @ self.W @ s + np.sum(s * self.threshold)"
   ]
  },
  {
   "cell_type": "code",
   "execution_count": null,
   "metadata": {
    "id": "NLdUg7G5aHVw"
   },
   "outputs": [],
   "source": [
    "import skimage.data\n",
    "from skimage.color import rgb2gray\n",
    "from skimage.filters import threshold_mean\n",
    "from skimage.transform import resize"
   ]
  },
  {
   "cell_type": "code",
   "execution_count": null,
   "metadata": {
    "id": "KgCb2hlxaC0H"
   },
   "outputs": [],
   "source": [
    "# Utils\n",
    "def get_corrupted_input(input, corruption_level):\n",
    "    corrupted = np.copy(input)\n",
    "    inv = np.random.binomial(n=1, p=corruption_level, size=len(input))\n",
    "    for i, v in enumerate(input):\n",
    "        if inv[i]:\n",
    "            corrupted[i] = -1 * v\n",
    "    return corrupted\n",
    "\n",
    "\n",
    "def reshape(data):\n",
    "    dim = int(np.sqrt(len(data)))\n",
    "    data = np.reshape(data, (dim, dim))\n",
    "    return data\n",
    "\n",
    "\n",
    "def plot(data, test, predicted, figsize=(5, 6)):\n",
    "    data = [reshape(d) for d in data]\n",
    "    test = [reshape(d) for d in test]\n",
    "    predicted = [reshape(d) for d in predicted]\n",
    "\n",
    "    fig, axarr = plt.subplots(len(data), 3, figsize=figsize)\n",
    "    for i in range(len(data)):\n",
    "        if i==0:\n",
    "            axarr[i, 0].set_title('Train')\n",
    "            axarr[i, 1].set_title('Input')\n",
    "            axarr[i, 2].set_title('Predict')\n",
    "\n",
    "        axarr[i, 0].imshow(data[i])\n",
    "        axarr[i, 0].axis('off')\n",
    "        axarr[i, 1].imshow(test[i])\n",
    "        axarr[i, 1].axis('off')\n",
    "        axarr[i, 2].imshow(predicted[i])\n",
    "        axarr[i, 2].axis('off')\n",
    "\n",
    "    plt.tight_layout()\n",
    "    plt.savefig(\"result.png\")\n",
    "    plt.show()\n",
    "\n",
    "\n",
    "def preprocessing(img, w=128, h=128):\n",
    "    # Resize image\n",
    "    img = resize(img, (w,h), mode='reflect')\n",
    "\n",
    "    # Threshold\n",
    "    thresh = threshold_mean(img)\n",
    "    binary = img > thresh\n",
    "    shift = 2 * (binary * 1) - 1\n",
    "\n",
    "    # Reshape\n",
    "    flatten = np.reshape(shift, (w*h))\n",
    "    return flatten\n",
    "\n",
    "\n",
    "def main():\n",
    "    # Load data\n",
    "    page = skimage.data.page()\n",
    "    rocket = rgb2gray(skimage.data.rocket())\n",
    "    coins = skimage.data.coins()\n",
    "    coffee = rgb2gray(skimage.data.coffee())\n",
    "\n",
    "    # Marge data\n",
    "    data = [page, rocket, coins, coffee]\n",
    "\n",
    "    # Preprocessing\n",
    "    data = [preprocessing(d) for d in data]\n",
    "\n",
    "    # Create Hopfield Network Model\n",
    "    model = HopfieldNN()\n",
    "    model.train_weights(data)\n",
    "\n",
    "    # Generate testset\n",
    "    test = [get_corrupted_input(d, 0.3) for d in data]\n",
    "\n",
    "    predicted = model.predict(test, threshold=0)\n",
    "    plot(data, test, predicted)"
   ]
  },
  {
   "cell_type": "code",
   "execution_count": null,
   "metadata": {
    "colab": {
     "base_uri": "https://localhost:8080/",
     "height": 607
    },
    "id": "j9IEKTBnbENV",
    "outputId": "f4e5fa01-8dd7-494a-db9e-5cf855350804",
    "scrolled": true
   },
   "outputs": [],
   "source": [
    "main()"
   ]
  },
  {
   "cell_type": "code",
   "execution_count": null,
   "metadata": {},
   "outputs": [],
   "source": []
  }
 ],
 "metadata": {
  "colab": {
   "provenance": []
  },
  "kernelspec": {
   "display_name": "Python 3 (ipykernel)",
   "language": "python",
   "name": "python3"
  },
  "language_info": {
   "codemirror_mode": {
    "name": "ipython",
    "version": 3
   },
   "file_extension": ".py",
   "mimetype": "text/x-python",
   "name": "python",
   "nbconvert_exporter": "python",
   "pygments_lexer": "ipython3",
   "version": "3.13.0"
  }
 },
 "nbformat": 4,
 "nbformat_minor": 4
}
